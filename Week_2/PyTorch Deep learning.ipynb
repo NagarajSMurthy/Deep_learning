{
 "cells": [
  {
   "cell_type": "code",
   "execution_count": 30,
   "metadata": {},
   "outputs": [],
   "source": [
    "import numpy as np\n",
    "import matplotlib.pyplot as plt \n",
    "import torch \n",
    "\n",
    "%matplotlib inline\n",
    "%config InlineBackend.figure_format = 'retina'"
   ]
  },
  {
   "cell_type": "code",
   "execution_count": 2,
   "metadata": {},
   "outputs": [],
   "source": [
    "from torchvision import datasets, transforms"
   ]
  },
  {
   "cell_type": "code",
   "execution_count": 73,
   "metadata": {},
   "outputs": [],
   "source": [
    "transform = transforms.Compose([transforms.ToTensor(),\n",
    "                                transforms.Normalize((0.5,), (0.5,)),\n",
    "                               ])\n",
    "\n",
    "trainset = datasets.MNIST('~/.pytorch/MNIST_data/', download=True, train=True, transform=transform)\n",
    "testset = datasets.MNIST('~/.pytorch/MNIST_data/',download=True, train = False, transform = transform)\n",
    "trainloader = torch.utils.data.DataLoader(trainset, batch_size=32, shuffle=True)\n",
    "testloader = torch.utils.data.DataLoader(testset, batch_size=16, shuffle=True)"
   ]
  },
  {
   "cell_type": "code",
   "execution_count": 38,
   "metadata": {},
   "outputs": [
    {
     "data": {
      "text/plain": [
       "32"
      ]
     },
     "execution_count": 38,
     "metadata": {},
     "output_type": "execute_result"
    }
   ],
   "source": [
    "dataiter = iter(trainloader)\n",
    "images, label = dataiter.next()\n",
    "label.shape[0]"
   ]
  },
  {
   "cell_type": "code",
   "execution_count": 35,
   "metadata": {},
   "outputs": [
    {
     "data": {
      "text/plain": [
       "torch.Size([1, 28, 28])"
      ]
     },
     "execution_count": 35,
     "metadata": {},
     "output_type": "execute_result"
    }
   ],
   "source": [
    "images[0].shape"
   ]
  },
  {
   "cell_type": "code",
   "execution_count": 36,
   "metadata": {},
   "outputs": [
    {
     "data": {
      "text/plain": [
       "torch.Size([28, 28])"
      ]
     },
     "execution_count": 36,
     "metadata": {},
     "output_type": "execute_result"
    }
   ],
   "source": [
    "images[0].squeeze().shape"
   ]
  },
  {
   "cell_type": "code",
   "execution_count": 39,
   "metadata": {},
   "outputs": [
    {
     "data": {
      "text/plain": [
       "<matplotlib.image.AxesImage at 0x208889326c8>"
      ]
     },
     "execution_count": 39,
     "metadata": {},
     "output_type": "execute_result"
    },
    {
     "data": {
      "image/png": "[encoded data removed]",
      "text/plain": [
       "<Figure size 432x288 with 1 Axes>"
      ]
     },
     "metadata": {
      "image/png": {
       "height": 248,
       "width": 251
      },
      "needs_background": "light"
     },
     "output_type": "display_data"
    }
   ],
   "source": [
    "plt.imshow(images[0].squeeze())"
   ]
  },
  {
   "cell_type": "code",
   "execution_count": 40,
   "metadata": {},
   "outputs": [
    {
     "data": {
      "text/plain": [
       "784"
      ]
     },
     "execution_count": 40,
     "metadata": {},
     "output_type": "execute_result"
    }
   ],
   "source": [
    "28*28"
   ]
  },
  {
   "cell_type": "code",
   "execution_count": 41,
   "metadata": {},
   "outputs": [],
   "source": [
    "n_input = 784\n",
    "n_hidden = 256\n",
    "n_output = 10 # 10 values "
   ]
  },
  {
   "cell_type": "code",
   "execution_count": 42,
   "metadata": {},
   "outputs": [],
   "source": [
    "W1 = torch.randn(n_input,n_hidden)       #784*256\n",
    "b1 = torch.randn(n_hidden)               # 256\n",
    "\n",
    "W2 = torch.randn(n_hidden,n_output)      # 256*10\n",
    "b2 = torch.randn(n_output)               # 10"
   ]
  },
  {
   "cell_type": "code",
   "execution_count": 43,
   "metadata": {},
   "outputs": [],
   "source": [
    "def sigmoid(z):\n",
    "    return 1/(1+torch.exp(-z))"
   ]
  },
  {
   "cell_type": "code",
   "execution_count": 44,
   "metadata": {},
   "outputs": [],
   "source": [
    "def softmax(z):\n",
    "    z_exp = torch.exp(z)\n",
    "    s = z_exp/torch.sum(z_exp,axis=1).view(-1,1)\n",
    "    return s"
   ]
  },
  {
   "cell_type": "code",
   "execution_count": 46,
   "metadata": {},
   "outputs": [
    {
     "data": {
      "text/plain": [
       "torch.Size([32, 784])"
      ]
     },
     "execution_count": 46,
     "metadata": {},
     "output_type": "execute_result"
    }
   ],
   "source": [
    "images.view(32,-1).shape"
   ]
  },
  {
   "cell_type": "code",
   "execution_count": null,
   "metadata": {},
   "outputs": [],
   "source": [
    "## Y= w.tx + b "
   ]
  },
  {
   "cell_type": "code",
   "execution_count": 45,
   "metadata": {},
   "outputs": [],
   "source": [
    "images = images.view(32,-1)\n",
    "\n",
    "h = sigmoid(torch.mm(images,W1) + b1)\n",
    "\n",
    "output = torch.mm(h, W2) + b2          # random values not probabilities"
   ]
  },
  {
   "cell_type": "code",
   "execution_count": 47,
   "metadata": {},
   "outputs": [
    {
     "name": "stdout",
     "output_type": "stream",
     "text": [
      "torch.Size([32, 10])\n"
     ]
    }
   ],
   "source": [
    "prob = softmax(output)\n",
    "print(prob.shape)"
   ]
  },
  {
   "cell_type": "code",
   "execution_count": 48,
   "metadata": {},
   "outputs": [
    {
     "data": {
      "text/plain": [
       "tensor([[1.7918e-01, 5.8260e-02, 1.6843e-06, 2.2774e-02, 2.8769e-06, 1.7759e-09,\n",
       "         5.9241e-08, 2.4527e-10, 7.2759e-01, 1.2190e-02],\n",
       "        [3.3466e-05, 3.0129e-01, 1.0375e-13, 6.9866e-01, 9.2821e-07, 1.1899e-13,\n",
       "         1.2069e-14, 4.2873e-10, 1.2780e-05, 9.0431e-08],\n",
       "        [5.1465e-03, 9.8571e-05, 1.4083e-08, 9.0923e-01, 8.5233e-09, 1.1226e-12,\n",
       "         2.3900e-11, 1.8968e-12, 8.5515e-02, 5.6780e-06],\n",
       "        [9.8289e-01, 1.5941e-02, 6.7668e-08, 1.1357e-03, 7.1464e-09, 1.0657e-12,\n",
       "         5.4577e-12, 2.2523e-08, 3.6615e-05, 1.2121e-06],\n",
       "        [7.9979e-01, 2.2711e-06, 1.6299e-06, 1.9987e-01, 3.1433e-05, 8.8680e-10,\n",
       "         4.3178e-09, 7.6978e-12, 3.0780e-04, 8.4359e-09],\n",
       "        [1.8033e-06, 9.9996e-01, 4.3426e-16, 3.1210e-09, 1.5767e-11, 3.5897e-16,\n",
       "         2.8705e-13, 2.3041e-11, 3.4868e-05, 7.8718e-11],\n",
       "        [7.0452e-02, 2.5901e-04, 1.2389e-11, 4.7873e-03, 4.4707e-07, 7.0432e-14,\n",
       "         1.5292e-13, 7.3552e-10, 9.2450e-01, 3.0335e-09],\n",
       "        [3.5385e-06, 6.0851e-01, 1.2121e-05, 3.9002e-01, 1.4394e-09, 2.0599e-14,\n",
       "         6.5088e-16, 4.2741e-10, 1.4592e-03, 6.3433e-10],\n",
       "        [4.7237e-01, 1.1323e-04, 5.4389e-05, 4.9265e-01, 3.4570e-02, 4.1018e-09,\n",
       "         4.7322e-05, 1.1985e-07, 1.9373e-04, 2.0834e-06],\n",
       "        [1.0000e+00, 1.4577e-10, 1.2783e-10, 1.6758e-08, 2.1782e-11, 2.6461e-16,\n",
       "         1.9518e-13, 2.0353e-11, 9.8991e-10, 1.2541e-10],\n",
       "        [1.0525e-04, 9.9987e-01, 3.9878e-11, 8.7840e-07, 1.9417e-12, 3.8636e-15,\n",
       "         8.1503e-14, 4.1974e-14, 2.7894e-05, 3.0901e-09],\n",
       "        [1.1529e-04, 9.8673e-01, 2.8698e-11, 7.2104e-05, 2.0587e-08, 1.4560e-12,\n",
       "         5.9342e-09, 1.1289e-07, 1.3084e-02, 7.3014e-07],\n",
       "        [1.1122e-10, 9.1740e-03, 5.6818e-15, 9.9083e-01, 1.7559e-13, 1.5278e-17,\n",
       "         3.8199e-21, 3.2006e-15, 1.6062e-11, 5.5064e-14],\n",
       "        [2.1765e-06, 2.9902e-05, 7.6136e-12, 9.9994e-01, 4.4121e-08, 5.2358e-14,\n",
       "         1.6464e-16, 2.4244e-12, 2.6470e-05, 1.0979e-08],\n",
       "        [9.7731e-05, 9.9990e-01, 7.2134e-10, 1.3144e-09, 8.3089e-14, 2.8319e-16,\n",
       "         5.7526e-18, 1.9465e-18, 2.1413e-10, 3.1169e-11],\n",
       "        [2.1266e-05, 9.1608e-02, 5.2761e-10, 5.0551e-01, 3.1519e-13, 3.8547e-13,\n",
       "         1.0563e-14, 1.5892e-09, 4.0286e-01, 4.1528e-10],\n",
       "        [9.9929e-01, 6.8130e-07, 3.4232e-14, 3.3533e-08, 5.9184e-17, 7.3927e-15,\n",
       "         1.7950e-20, 2.0877e-13, 7.0636e-04, 5.6109e-16],\n",
       "        [2.0927e-07, 8.6004e-01, 9.6279e-11, 1.3112e-01, 2.1685e-11, 2.3971e-16,\n",
       "         4.4825e-16, 1.0736e-13, 8.8437e-03, 7.2993e-10],\n",
       "        [3.8759e-03, 4.8016e-03, 8.7340e-10, 9.8235e-01, 5.8866e-10, 2.8748e-10,\n",
       "         7.0969e-14, 4.2423e-07, 8.9757e-03, 5.6477e-07],\n",
       "        [9.9878e-01, 3.1674e-05, 1.1642e-11, 1.1834e-03, 9.9524e-11, 8.2363e-15,\n",
       "         1.4206e-12, 2.0734e-15, 5.0832e-08, 2.1235e-07],\n",
       "        [9.9950e-01, 3.8039e-04, 3.2302e-06, 1.1463e-04, 4.3985e-11, 1.2468e-12,\n",
       "         1.3165e-07, 1.1162e-07, 4.9177e-06, 5.8651e-09],\n",
       "        [1.2741e-07, 8.6753e-01, 1.7683e-05, 9.9563e-03, 9.7278e-04, 1.2660e-14,\n",
       "         3.2091e-12, 1.7727e-13, 1.2135e-01, 1.7976e-04],\n",
       "        [5.5155e-01, 4.4835e-01, 7.6952e-05, 3.0405e-08, 3.4082e-06, 3.2456e-10,\n",
       "         1.9050e-13, 1.1469e-05, 9.9645e-06, 8.6774e-10],\n",
       "        [7.8872e-01, 2.0041e-01, 4.1939e-04, 8.5155e-03, 1.0672e-07, 2.7429e-11,\n",
       "         3.0002e-15, 4.4113e-08, 1.9348e-03, 2.5932e-10],\n",
       "        [2.5371e-02, 9.7444e-01, 8.3088e-12, 7.7615e-09, 4.8318e-07, 5.2149e-15,\n",
       "         1.8624e-15, 8.6268e-09, 1.8861e-04, 7.2869e-09],\n",
       "        [9.5910e-01, 3.8295e-07, 6.5696e-06, 4.0830e-02, 5.5361e-05, 4.9020e-11,\n",
       "         7.2573e-10, 1.2333e-09, 4.0558e-06, 1.4449e-07],\n",
       "        [1.3288e-01, 2.0908e-03, 2.4871e-10, 6.8122e-05, 7.8162e-09, 1.2285e-11,\n",
       "         3.6915e-09, 5.8354e-03, 8.5913e-01, 6.4091e-08],\n",
       "        [2.3651e-04, 1.2562e-04, 4.0710e-12, 9.3443e-01, 1.7566e-08, 2.4725e-12,\n",
       "         1.0609e-13, 1.0894e-07, 6.5206e-02, 3.7218e-07],\n",
       "        [9.9909e-01, 5.4272e-05, 2.4730e-07, 7.3720e-04, 4.4354e-10, 1.8427e-12,\n",
       "         1.9315e-12, 2.4660e-08, 1.2254e-04, 1.6480e-09],\n",
       "        [8.1942e-07, 8.6375e-01, 6.3551e-09, 4.6299e-02, 2.1909e-12, 9.4228e-16,\n",
       "         8.5766e-13, 1.4363e-10, 8.9943e-02, 7.9868e-06],\n",
       "        [5.5535e-03, 9.2295e-01, 6.9387e-09, 4.0717e-08, 6.4260e-05, 8.2260e-13,\n",
       "         1.0037e-08, 9.4402e-08, 5.9188e-02, 1.2242e-02],\n",
       "        [7.6856e-05, 1.3189e-04, 6.8085e-10, 9.9824e-01, 8.0674e-09, 8.9201e-18,\n",
       "         2.1718e-13, 5.2541e-10, 1.5487e-03, 6.8252e-09]])"
      ]
     },
     "execution_count": 48,
     "metadata": {},
     "output_type": "execute_result"
    }
   ],
   "source": [
    "prob"
   ]
  },
  {
   "cell_type": "code",
   "execution_count": 49,
   "metadata": {},
   "outputs": [
    {
     "name": "stdout",
     "output_type": "stream",
     "text": [
      "tensor([1.0000, 1.0000, 1.0000, 1.0000, 1.0000, 1.0000, 1.0000, 1.0000, 1.0000,\n",
      "        1.0000, 1.0000, 1.0000, 1.0000, 1.0000, 1.0000, 1.0000, 1.0000, 1.0000,\n",
      "        1.0000, 1.0000, 1.0000, 1.0000, 1.0000, 1.0000, 1.0000, 1.0000, 1.0000,\n",
      "        1.0000, 1.0000, 1.0000, 1.0000, 1.0000])\n"
     ]
    }
   ],
   "source": [
    "print(torch.sum(prob,axis=1))"
   ]
  },
  {
   "cell_type": "code",
   "execution_count": 50,
   "metadata": {},
   "outputs": [],
   "source": [
    "from torch import nn\n",
    "import torch.nn.functional as F"
   ]
  },
  {
   "cell_type": "code",
   "execution_count": 51,
   "metadata": {},
   "outputs": [],
   "source": [
    "class Network(nn.Module):\n",
    "    def __init__(self):\n",
    "        super().__init__()\n",
    "        \n",
    "        self.hidden = nn.Linear(784,256)\n",
    "        self.sigmoid = nn.Sigmoid()\n",
    "        self.output = nn.Linear(256,10)\n",
    "        self.softmax = nn.Softmax(dim=1)\n",
    "        \n",
    "    def forward(self,x):\n",
    "        \n",
    "        x = self.sigmoid(self.hidden(x))\n",
    "        x = self.softmax(self.output(x))\n",
    "        \n",
    "        return x"
   ]
  },
  {
   "cell_type": "code",
   "execution_count": 15,
   "metadata": {},
   "outputs": [],
   "source": [
    "class fc_3layers(nn.Module):\n",
    "    def __init__(self):\n",
    "        super().__init__()\n",
    "        \n",
    "        self.fc1 = nn.Linear(784,128)\n",
    "        self.fc2 = nn.Linear(128,64)\n",
    "        self.fc3 = nn.Linear(64,10)\n",
    "        \n",
    "    def forward(self,x):\n",
    "        \n",
    "        x = F.relu(self.fc1(x))\n",
    "        x = F.relu(self.fc2(x))\n",
    "        x = F.log_softmax(self.fc3(x))\n",
    "        \n",
    "        return x"
   ]
  },
  {
   "cell_type": "code",
   "execution_count": 53,
   "metadata": {},
   "outputs": [],
   "source": [
    "#model = fc_3layers()\n",
    "model = nn.Sequential(nn.Linear(784,256),\n",
    "                     nn.ReLU(),\n",
    "                     nn.Linear(256,64),\n",
    "                     nn.ReLU(),\n",
    "                     nn.Linear(64,10),\n",
    "                     nn.LogSoftmax(dim=1))"
   ]
  },
  {
   "cell_type": "code",
   "execution_count": 54,
   "metadata": {},
   "outputs": [
    {
     "name": "stdout",
     "output_type": "stream",
     "text": [
      "tensor(2.2886, grad_fn=<NllLossBackward>)\n"
     ]
    }
   ],
   "source": [
    "criterion = nn.NLLLoss()\n",
    "\n",
    "images, labels = next(iter(trainloader))\n",
    "\n",
    "images = images.view(images.shape[0],-1)  # 32*784\n",
    "\n",
    "logits = model.forward(images)\n",
    "\n",
    "loss = criterion(logits,labels)\n",
    "print(loss)"
   ]
  },
  {
   "cell_type": "markdown",
   "metadata": {},
   "source": [
    "### Autograd\n",
    "\n"
   ]
  },
  {
   "cell_type": "markdown",
   "metadata": {},
   "source": [
    "The loss value depends on each and every parameter in our model. That is why the autograd is able to calculate the gradients of the weights when we run backward() pass on the computed loss. "
   ]
  },
  {
   "cell_type": "code",
   "execution_count": 55,
   "metadata": {},
   "outputs": [
    {
     "name": "stdout",
     "output_type": "stream",
     "text": [
      "Before backward pass: \n",
      " None\n",
      "After backward pass: \n",
      " tensor([[-2.2405e-04, -2.2405e-04, -2.2405e-04,  ..., -2.2405e-04,\n",
      "         -2.2405e-04, -2.2405e-04],\n",
      "        [ 5.1554e-03,  5.1554e-03,  5.1554e-03,  ...,  5.1554e-03,\n",
      "          5.1554e-03,  5.1554e-03],\n",
      "        [-7.1381e-05, -7.1381e-05, -7.1381e-05,  ..., -7.1381e-05,\n",
      "         -7.1381e-05, -7.1381e-05],\n",
      "        ...,\n",
      "        [ 2.5505e-05,  2.5505e-05,  2.5505e-05,  ...,  2.5505e-05,\n",
      "          2.5505e-05,  2.5505e-05],\n",
      "        [ 1.6001e-03,  1.6001e-03,  1.6001e-03,  ...,  1.6001e-03,\n",
      "          1.6001e-03,  1.6001e-03],\n",
      "        [ 2.1739e-03,  2.1739e-03,  2.1739e-03,  ...,  2.1739e-03,\n",
      "          2.1739e-03,  2.1739e-03]])\n"
     ]
    }
   ],
   "source": [
    "print('Before backward pass: \\n', model[0].weight.grad)         # gradients before backward pass\n",
    "\n",
    "loss.backward()       # One back prop step\n",
    "\n",
    "print('After backward pass: \\n', model[0].weight.grad)          # gradients after backward pass"
   ]
  },
  {
   "cell_type": "markdown",
   "metadata": {},
   "source": [
    "### Optimizers"
   ]
  },
  {
   "cell_type": "code",
   "execution_count": 56,
   "metadata": {},
   "outputs": [],
   "source": [
    "from torch import optim"
   ]
  },
  {
   "cell_type": "code",
   "execution_count": 57,
   "metadata": {},
   "outputs": [],
   "source": [
    "criterion = nn.NLLLoss()\n"
   ]
  },
  {
   "cell_type": "code",
   "execution_count": 59,
   "metadata": {},
   "outputs": [
    {
     "data": {
      "text/plain": [
       "<bound method Module.parameters of Sequential(\n",
       "  (0): Linear(in_features=784, out_features=256, bias=True)\n",
       "  (1): ReLU()\n",
       "  (2): Linear(in_features=256, out_features=64, bias=True)\n",
       "  (3): ReLU()\n",
       "  (4): Linear(in_features=64, out_features=10, bias=True)\n",
       "  (5): LogSoftmax()\n",
       ")>"
      ]
     },
     "execution_count": 59,
     "metadata": {},
     "output_type": "execute_result"
    }
   ],
   "source": [
    "model.parameters"
   ]
  },
  {
   "cell_type": "code",
   "execution_count": 60,
   "metadata": {},
   "outputs": [],
   "source": [
    "optimizer = optim.SGD(model.parameters(),lr=0.001)        # lr = learning rate"
   ]
  },
  {
   "cell_type": "code",
   "execution_count": 61,
   "metadata": {},
   "outputs": [
    {
     "name": "stdout",
     "output_type": "stream",
     "text": [
      "Weights before a single optimization step: Parameter containing:\n",
      "tensor([[ 0.0306,  0.0079,  0.0175,  ...,  0.0245,  0.0279, -0.0174],\n",
      "        [ 0.0247, -0.0052, -0.0018,  ..., -0.0294, -0.0244,  0.0329],\n",
      "        [-0.0074, -0.0045,  0.0315,  ..., -0.0078,  0.0180, -0.0085],\n",
      "        ...,\n",
      "        [ 0.0140, -0.0321, -0.0144,  ...,  0.0185,  0.0159, -0.0352],\n",
      "        [-0.0150,  0.0119, -0.0111,  ...,  0.0319,  0.0158, -0.0035],\n",
      "        [ 0.0326,  0.0335,  0.0127,  ...,  0.0202,  0.0331, -0.0114]],\n",
      "       requires_grad=True)\n",
      "Gradients: tensor([[-2.2405e-04, -2.2405e-04, -2.2405e-04,  ..., -2.2405e-04,\n",
      "         -2.2405e-04, -2.2405e-04],\n",
      "        [ 5.1554e-03,  5.1554e-03,  5.1554e-03,  ...,  5.1554e-03,\n",
      "          5.1554e-03,  5.1554e-03],\n",
      "        [-7.1381e-05, -7.1381e-05, -7.1381e-05,  ..., -7.1381e-05,\n",
      "         -7.1381e-05, -7.1381e-05],\n",
      "        ...,\n",
      "        [ 2.5505e-05,  2.5505e-05,  2.5505e-05,  ...,  2.5505e-05,\n",
      "          2.5505e-05,  2.5505e-05],\n",
      "        [ 1.6001e-03,  1.6001e-03,  1.6001e-03,  ...,  1.6001e-03,\n",
      "          1.6001e-03,  1.6001e-03],\n",
      "        [ 2.1739e-03,  2.1739e-03,  2.1739e-03,  ...,  2.1739e-03,\n",
      "          2.1739e-03,  2.1739e-03]])\n"
     ]
    }
   ],
   "source": [
    "print('Weights before a single optimization step:',model[0].weight)\n",
    "print('Gradients:',model[0].weight.grad)"
   ]
  },
  {
   "cell_type": "code",
   "execution_count": 62,
   "metadata": {},
   "outputs": [
    {
     "name": "stdout",
     "output_type": "stream",
     "text": [
      "tensor(2.2930, grad_fn=<NllLossBackward>)\n"
     ]
    }
   ],
   "source": [
    "images, labels = next(iter(trainloader))\n",
    "\n",
    "images = images.view(images.shape[0],-1)\n",
    "\n",
    "logits = model(images)\n",
    "\n",
    "optimizer.zero_grad()          # To clear the accumulator\n",
    "loss = criterion(logits,labels)\n",
    "print(loss)\n",
    "loss.backward()\n"
   ]
  },
  {
   "cell_type": "code",
   "execution_count": 63,
   "metadata": {},
   "outputs": [],
   "source": [
    "optimizer.step()         # Optimization step \n"
   ]
  },
  {
   "cell_type": "code",
   "execution_count": 65,
   "metadata": {},
   "outputs": [],
   "source": [
    "# W = W - lr*gradient"
   ]
  },
  {
   "cell_type": "code",
   "execution_count": 66,
   "metadata": {},
   "outputs": [
    {
     "name": "stdout",
     "output_type": "stream",
     "text": [
      "Weights after a single optimization step: Parameter containing:\n",
      "tensor([[ 0.0306,  0.0079,  0.0175,  ...,  0.0245,  0.0280, -0.0174],\n",
      "        [ 0.0247, -0.0052, -0.0018,  ..., -0.0294, -0.0244,  0.0329],\n",
      "        [-0.0074, -0.0045,  0.0315,  ..., -0.0078,  0.0180, -0.0085],\n",
      "        ...,\n",
      "        [ 0.0140, -0.0321, -0.0144,  ...,  0.0185,  0.0159, -0.0352],\n",
      "        [-0.0150,  0.0119, -0.0111,  ...,  0.0319,  0.0158, -0.0035],\n",
      "        [ 0.0326,  0.0335,  0.0127,  ...,  0.0202,  0.0331, -0.0114]],\n",
      "       requires_grad=True)\n",
      "Gradients: tensor([[-0.0055, -0.0055, -0.0055,  ..., -0.0055, -0.0055, -0.0055],\n",
      "        [-0.0021, -0.0021, -0.0021,  ..., -0.0021, -0.0021, -0.0021],\n",
      "        [-0.0010, -0.0010, -0.0010,  ..., -0.0010, -0.0010, -0.0010],\n",
      "        ...,\n",
      "        [ 0.0014,  0.0014,  0.0014,  ...,  0.0014,  0.0014,  0.0014],\n",
      "        [-0.0012, -0.0012, -0.0012,  ..., -0.0012, -0.0012, -0.0012],\n",
      "        [ 0.0004,  0.0004,  0.0004,  ...,  0.0004,  0.0004,  0.0004]])\n"
     ]
    }
   ],
   "source": [
    "print('Weights after a single optimization step:',model[0].weight)\n",
    "print('Gradients:',model[0].weight.grad)"
   ]
  },
  {
   "cell_type": "markdown",
   "metadata": {},
   "source": [
    "### Training"
   ]
  },
  {
   "cell_type": "code",
   "execution_count": 67,
   "metadata": {},
   "outputs": [
    {
     "data": {
      "text/plain": [
       "Sequential(\n",
       "  (0): Linear(in_features=784, out_features=256, bias=True)\n",
       "  (1): ReLU()\n",
       "  (2): Linear(in_features=256, out_features=64, bias=True)\n",
       "  (3): ReLU()\n",
       "  (4): Linear(in_features=64, out_features=10, bias=True)\n",
       "  (5): LogSoftmax()\n",
       ")"
      ]
     },
     "execution_count": 67,
     "metadata": {},
     "output_type": "execute_result"
    }
   ],
   "source": [
    "model"
   ]
  },
  {
   "cell_type": "code",
   "execution_count": 68,
   "metadata": {},
   "outputs": [],
   "source": [
    "criterion = nn.NLLLoss()\n",
    "optimiser = optim.Adam(model.parameters(),lr=0.001)"
   ]
  },
  {
   "cell_type": "code",
   "execution_count": 69,
   "metadata": {},
   "outputs": [
    {
     "data": {
      "text/plain": [
       "1875"
      ]
     },
     "execution_count": 69,
     "metadata": {},
     "output_type": "execute_result"
    }
   ],
   "source": [
    "len(trainloader)"
   ]
  },
  {
   "cell_type": "code",
   "execution_count": 70,
   "metadata": {},
   "outputs": [
    {
     "data": {
      "text/plain": [
       "1875.0"
      ]
     },
     "execution_count": 70,
     "metadata": {},
     "output_type": "execute_result"
    }
   ],
   "source": [
    "60000/32"
   ]
  },
  {
   "cell_type": "code",
   "execution_count": 71,
   "metadata": {},
   "outputs": [
    {
     "name": "stdout",
     "output_type": "stream",
     "text": [
      "Training loss: 0.33820600611269475\n",
      "Training loss: 0.15657944871981938\n",
      "Training loss: 0.11616895669562122\n",
      "Training loss: 0.09638887075859433\n",
      "Training loss: 0.08442370700969672\n"
     ]
    }
   ],
   "source": [
    "epochs = 5\n",
    "for e in range(epochs):\n",
    "    batch_loss = 0\n",
    "    for images,labels in trainloader:\n",
    "        # Flatten the images\n",
    "        images = images.view(images.shape[0],-1) \n",
    "        \n",
    "        # Clear the optimiser accumulator\n",
    "        optimiser.zero_grad()\n",
    "        \n",
    "        out = model(images)      # Scores\n",
    "        loss = criterion(out, labels)\n",
    "        loss.backward()        # Back prop\n",
    "        optimiser.step()       # Optimization step\n",
    "        \n",
    "        batch_loss += loss.item()   # Loss of the current batch\n",
    "    else:\n",
    "        print(f\"Training loss: {batch_loss/len(trainloader)}\")"
   ]
  },
  {
   "cell_type": "code",
   "execution_count": 74,
   "metadata": {},
   "outputs": [
    {
     "name": "stdout",
     "output_type": "stream",
     "text": [
      "tensor(6)\n",
      "tensor([[6]])\n"
     ]
    },
    {
     "data": {
      "image/png": "[encoded data removed]",
      "text/plain": [
       "<Figure size 432x288 with 1 Axes>"
      ]
     },
     "metadata": {
      "image/png": {
       "height": 248,
       "width": 251
      },
      "needs_background": "light"
     },
     "output_type": "display_data"
    }
   ],
   "source": [
    "img, label = next(iter(testloader))\n",
    "img = img[0].squeeze()\n",
    "label = label[0]\n",
    "\n",
    "out_ps = model(img.view(1,784))\n",
    "\n",
    "probabilities = torch.exp(out_ps)\n",
    "value, index = torch.topk(probabilities,k=1)\n",
    "plt.imshow(img.squeeze())\n",
    "print(label)\n",
    "print(index)"
   ]
  },
  {
   "cell_type": "code",
   "execution_count": null,
   "metadata": {},
   "outputs": [],
   "source": []
  },
  {
   "cell_type": "code",
   "execution_count": null,
   "metadata": {},
   "outputs": [],
   "source": []
  },
  {
   "cell_type": "code",
   "execution_count": null,
   "metadata": {},
   "outputs": [],
   "source": []
  }
 ],
 "metadata": {
  "kernelspec": {
   "display_name": "Python 3",
   "language": "python",
   "name": "python3"
  },
  "language_info": {
   "codemirror_mode": {
    "name": "ipython",
    "version": 3
   },
   "file_extension": ".py",
   "mimetype": "text/x-python",
   "name": "python",
   "nbconvert_exporter": "python",
   "pygments_lexer": "ipython3",
   "version": "3.7.4"
  }
 },
 "nbformat": 4,
 "nbformat_minor": 2
}
