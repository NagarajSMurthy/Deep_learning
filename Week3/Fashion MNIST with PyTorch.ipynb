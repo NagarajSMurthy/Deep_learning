{
 "cells": [
  {
   "cell_type": "code",
   "execution_count": 1,
   "metadata": {
    "collapsed": true
   },
   "outputs": [],
   "source": [
    "import numpy as np\n",
    "import matplotlib.pyplot as plt\n",
    "%matplotlib inline"
   ]
  },
  {
   "cell_type": "code",
   "execution_count": 3,
   "metadata": {
    "collapsed": true
   },
   "outputs": [],
   "source": [
    "import torch \n",
    "from torchvision import datasets, transforms\n",
    "from torch import optim, nn\n",
    "import torch.nn.functional as F"
   ]
  },
  {
   "cell_type": "code",
   "execution_count": 6,
   "metadata": {
    "collapsed": true
   },
   "outputs": [],
   "source": [
    "# Getting the data and dataloader\n",
    "transform = transforms.Compose([transforms.ToTensor(),\n",
    "                               transforms.Normalize((0.5,), (0.5,))\n",
    "                               ])\n",
    "\n",
    "trainset = datasets.FashionMNIST('~/.pytorch/F_MNIST_data/', download=True, train=True, transform=transform)\n",
    "trainloader = torch.utils.data.DataLoader(trainset, batch_size=64, shuffle=True)\n",
    "\n",
    "testset = datasets.FashionMNIST('/home/nagaraj/.pytorch/F_MNIST_data',download=True, train=False, transform=transform)\n",
    "testloader = torch.utils.data.DataLoader(testset,batch_size=32,shuffle=False)"
   ]
  },
  {
   "cell_type": "code",
   "execution_count": 20,
   "metadata": {
    "collapsed": true
   },
   "outputs": [],
   "source": [
    "classes = ['Tshirt/top','Trouser','Pullover','Dress','Coat','Sandal','Shirt','Sneakers','Bag','Ankle boot']"
   ]
  },
  {
   "cell_type": "code",
   "execution_count": 8,
   "metadata": {},
   "outputs": [
    {
     "name": "stdout",
     "output_type": "stream",
     "text": [
      "torch.Size([64, 1, 28, 28])\n",
      "tensor(9)\n"
     ]
    },
    {
     "data": {
      "image/png": "[encoded data removed]",
      "text/plain": [
       "<Figure size 432x288 with 1 Axes>"
      ]
     },
     "metadata": {
      "needs_background": "light"
     },
     "output_type": "display_data"
    }
   ],
   "source": [
    "image, label = next(iter(trainloader))\n",
    "print(image.shape)\n",
    "plt.imshow(image[0].squeeze())\n",
    "print(label[0])"
   ]
  },
  {
   "cell_type": "code",
   "execution_count": 52,
   "metadata": {
    "collapsed": true
   },
   "outputs": [],
   "source": [
    "class Classifier(nn.Module):\n",
    "    def __init__(self):\n",
    "        super().__init__()\n",
    "        \n",
    "        self.fc1 = nn.Linear(784,256)\n",
    "        self.fc2 = nn.Linear(256,128)\n",
    "        self.fc3 = nn.Linear(128,64)\n",
    "        self.fc4 = nn.Linear(64,10)\n",
    "        self.dropout = nn.Dropout(p=0.25)\n",
    "        \n",
    "    def forward(self,x):\n",
    "        x = self.dropout(F.relu(self.fc1(x)))\n",
    "        x = self.dropout(F.relu(self.fc2(x)))\n",
    "        x = self.dropout(F.relu(self.fc3(x)))\n",
    "        x = F.log_softmax(self.fc4(x),dim=1)\n",
    "        \n",
    "        return x"
   ]
  },
  {
   "cell_type": "code",
   "execution_count": 53,
   "metadata": {
    "collapsed": true
   },
   "outputs": [],
   "source": [
    "model = Classifier()"
   ]
  },
  {
   "cell_type": "code",
   "execution_count": 54,
   "metadata": {
    "collapsed": true
   },
   "outputs": [],
   "source": [
    "optimiser = optim.Adam(model.parameters(),lr=0.001)\n",
    "criterion = nn.NLLLoss()"
   ]
  },
  {
   "cell_type": "code",
   "execution_count": 55,
   "metadata": {},
   "outputs": [
    {
     "name": "stdout",
     "output_type": "stream",
     "text": [
      "Training loss: 0.6252081476167829\n",
      "Test loss: 0.4465259724912552\n",
      "Accuracy: 93.75%\n",
      "Training loss: 0.4536634340628124\n",
      "Test loss: 0.42259181652682276\n",
      "Accuracy: 100.0%\n",
      "Training loss: 0.41502431019950015\n",
      "Test loss: 0.3951394925007043\n",
      "Accuracy: 100.0%\n",
      "Training loss: 0.3903368646497411\n",
      "Test loss: 0.37520454206262915\n",
      "Accuracy: 100.0%\n",
      "Training loss: 0.37363080335641974\n",
      "Test loss: 0.3807038938323149\n",
      "Accuracy: 100.0%\n",
      "Training loss: 0.35725867025442976\n",
      "Test loss: 0.358116044070774\n",
      "Accuracy: 100.0%\n",
      "Training loss: 0.34760579687636545\n",
      "Test loss: 0.360366378919766\n",
      "Accuracy: 93.75%\n",
      "Training loss: 0.3391504656515523\n",
      "Test loss: 0.3556228763522051\n",
      "Accuracy: 100.0%\n",
      "Training loss: 0.33025497563882295\n",
      "Test loss: 0.3597573728654712\n",
      "Accuracy: 93.75%\n",
      "Training loss: 0.32388202556923257\n",
      "Test loss: 0.345098610622243\n",
      "Accuracy: 100.0%\n"
     ]
    }
   ],
   "source": [
    "epochs = 10\n",
    "train_losses = []\n",
    "test_losses = []\n",
    "for e in range(epochs):\n",
    "    batch_loss = 0\n",
    "    test_loss = 0\n",
    "    for images, labels in trainloader:\n",
    "        images = images.view(images.shape[0],-1)\n",
    "        \n",
    "        output = model(images)\n",
    "        loss = criterion(output,labels)\n",
    "        optimiser.zero_grad()\n",
    "        loss.backward()\n",
    "        optimiser.step()\n",
    "        \n",
    "        batch_loss += loss.item()\n",
    "    with torch.no_grad():\n",
    "        model.eval()\n",
    "        for images, labels in testloader:\n",
    "            images = images.view(images.shape[0],-1)\n",
    "            \n",
    "            output = model(images)\n",
    "            loss = criterion(output,labels)\n",
    "            test_loss +=loss.item()\n",
    "            \n",
    "            probs = torch.exp(output)\n",
    "            _, classes = torch.topk(probs, k=1, dim=1)\n",
    "            equals = classes == labels.view(*classes.shape)\n",
    "            accuracy = torch.mean(equals.type(torch.FloatTensor))\n",
    "    train_losses.append(batch_loss/len(trainloader))\n",
    "    test_losses.append(test_loss/len(testloader))\n",
    "    print(f\"Training loss: {batch_loss/len(trainloader)}\")\n",
    "    print(f\"Test loss: {test_loss/len(testloader)}\")\n",
    "    print(f\"Accuracy: {accuracy.item()*100}%\")\n",
    "    model.train()"
   ]
  },
  {
   "cell_type": "code",
   "execution_count": 45,
   "metadata": {},
   "outputs": [
    {
     "name": "stdout",
     "output_type": "stream",
     "text": [
      "Predicted class Trouser\n",
      "tensor(1)\n",
      "tensor(1)\n"
     ]
    },
    {
     "data": {
      "image/png": "[encoded data removed]",
      "text/plain": [
       "<Figure size 432x288 with 1 Axes>"
      ]
     },
     "metadata": {
      "needs_background": "light"
     },
     "output_type": "display_data"
    }
   ],
   "source": [
    "# Passing a single image\n",
    "data = iter(testloader)\n",
    "img, label = data.next()\n",
    "img = img[2].squeeze()\n",
    "\n",
    "out = model(img.view(1,784))\n",
    "\n",
    "prob = torch.exp(out)\n",
    "value, index = torch.topk(prob, k=1,dim=1)\n",
    "\n",
    "plt.imshow(img)\n",
    "print(f\"Predicted class {classes[index[0][0]]}\")\n",
    "print(label[2])\n",
    "print(index[0][0])"
   ]
  },
  {
   "cell_type": "code",
   "execution_count": 48,
   "metadata": {
    "collapsed": true
   },
   "outputs": [],
   "source": [
    "# Passing a batch\n",
    "data = iter(testloader)\n",
    "img, label = data.next()\n",
    "\n",
    "out = model(img.view(img.shape[0],784))\n",
    "\n",
    "prob = torch.exp(out)\n",
    "value, index = torch.topk(prob, k=1,dim=1)"
   ]
  },
  {
   "cell_type": "code",
   "execution_count": 49,
   "metadata": {},
   "outputs": [
    {
     "name": "stdout",
     "output_type": "stream",
     "text": [
      "Accuracy: 90.625%\n"
     ]
    }
   ],
   "source": [
    "equals = index == label.view(*index.shape)\n",
    "accuracy = torch.mean(equals.type(torch.FloatTensor))\n",
    "print(f\"Accuracy: {accuracy.item()*100}%\")"
   ]
  },
  {
   "cell_type": "code",
   "execution_count": 51,
   "metadata": {},
   "outputs": [
    {
     "data": {
      "text/plain": [
       "<matplotlib.legend.Legend at 0x7f53c988a7d0>"
      ]
     },
     "execution_count": 51,
     "metadata": {},
     "output_type": "execute_result"
    },
    {
     "data": {
      "image/png": "[encoded data removed]",
      "text/plain": [
       "<Figure size 432x288 with 1 Axes>"
      ]
     },
     "metadata": {
      "needs_background": "light"
     },
     "output_type": "display_data"
    }
   ],
   "source": [
    "# Losses without regularization\n",
    "plt.plot(train_losses, label='Training loss')\n",
    "plt.plot(test_losses, label='Validation loss')\n",
    "plt.legend(frameon=False)"
   ]
  },
  {
   "cell_type": "code",
   "execution_count": 56,
   "metadata": {},
   "outputs": [
    {
     "data": {
      "text/plain": [
       "<matplotlib.legend.Legend at 0x7f53c95e3850>"
      ]
     },
     "execution_count": 56,
     "metadata": {},
     "output_type": "execute_result"
    },
    {
     "data": {
      "image/png": "[encoded data removed]",
      "text/plain": [
       "<Figure size 432x288 with 1 Axes>"
      ]
     },
     "metadata": {
      "needs_background": "light"
     },
     "output_type": "display_data"
    }
   ],
   "source": [
    "# Losses with regularization (dropout)\n",
    "plt.plot(train_losses, label='Training loss')\n",
    "plt.plot(test_losses, label='Validation loss')\n",
    "plt.legend(frameon=False)"
   ]
  },
  {
   "cell_type": "code",
   "execution_count": null,
   "metadata": {
    "collapsed": true
   },
   "outputs": [],
   "source": []
  }
 ],
 "metadata": {
  "kernelspec": {
   "display_name": "Python 3",
   "language": "python",
   "name": "python3"
  },
  "language_info": {
   "codemirror_mode": {
    "name": "ipython",
    "version": 3
   },
   "file_extension": ".py",
   "mimetype": "text/x-python",
   "name": "python",
   "nbconvert_exporter": "python",
   "pygments_lexer": "ipython3",
   "version": "3.6.3"
  }
 },
 "nbformat": 4,
 "nbformat_minor": 2
}
